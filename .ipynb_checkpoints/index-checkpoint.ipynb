{
 "cells": [
  {
   "cell_type": "markdown",
   "metadata": {},
   "source": [
    "# Revert Test\n",
    "\n",
    "In this lab, we'll use `git revert` to revert a commit.\n",
    "\n",
    "## Introduction\n",
    "\n",
    "If you mess up or the commit history between two copies of the same repo become out of sync, you may need to revert.\n",
    "\n",
    "## Testing the Revert\n",
    "\n",
    "Check out this code:"
   ]
  },
  {
   "cell_type": "code",
   "execution_count": 1,
   "metadata": {},
   "outputs": [
    {
     "data": {
      "text/plain": [
       "'hi'"
      ]
     },
     "execution_count": 1,
     "metadata": {},
     "output_type": "execute_result"
    }
   ],
   "source": [
    "def function(var1):\n",
    "    var1 = 'hi'\n",
    "    return var1\n",
    "\n",
    "function('bye')"
   ]
  },
  {
   "cell_type": "markdown",
   "metadata": {},
   "source": [
    "## Second Test\n",
    "This is the second test:"
   ]
  },
  {
   "cell_type": "code",
   "execution_count": 3,
   "metadata": {},
   "outputs": [
    {
     "data": {
      "text/plain": [
       "'1 blah'"
      ]
     },
     "execution_count": 3,
     "metadata": {},
     "output_type": "execute_result"
    }
   ],
   "source": [
    "def function2(var2):\n",
    "    var2 = str(var2)\n",
    "    var2 += ' blah'\n",
    "    return var2\n",
    "\n",
    "function2(1)"
   ]
  },
  {
   "cell_type": "markdown",
   "metadata": {},
   "source": [
    "## Conclusions\n",
    "Writing this code here so that I can remove it later maybe if this works. "
   ]
  },
  {
   "cell_type": "markdown",
   "metadata": {},
   "source": [
    "## OK NOW THIS IS THE SECTION THAT I WILL REMOVE\n",
    "FOR REAL FOR REAL FOR REAL"
   ]
  }
 ],
 "metadata": {
  "kernelspec": {
   "display_name": "Python 3",
   "language": "python",
   "name": "python3"
  },
  "language_info": {
   "codemirror_mode": {
    "name": "ipython",
    "version": 3
   },
   "file_extension": ".py",
   "mimetype": "text/x-python",
   "name": "python",
   "nbconvert_exporter": "python",
   "pygments_lexer": "ipython3",
   "version": "3.7.3"
  }
 },
 "nbformat": 4,
 "nbformat_minor": 2
}
